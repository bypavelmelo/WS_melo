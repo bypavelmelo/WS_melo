{
  "nbformat": 4,
  "nbformat_minor": 0,
  "metadata": {
    "colab": {
      "provenance": [],
      "authorship_tag": "ABX9TyPieR9bm2AGpKWIS904ZrkN",
      "include_colab_link": true
    },
    "kernelspec": {
      "name": "python3",
      "display_name": "Python 3"
    },
    "language_info": {
      "name": "python"
    }
  },
  "cells": [
    {
      "cell_type": "markdown",
      "metadata": {
        "id": "view-in-github",
        "colab_type": "text"
      },
      "source": [
        "<a href=\"https://colab.research.google.com/github/bypavelmelo/WS_melo/blob/main/gpt_request.ipynb\" target=\"_parent\"><img src=\"https://colab.research.google.com/assets/colab-badge.svg\" alt=\"Open In Colab\"/></a>"
      ]
    },
    {
      "cell_type": "code",
      "execution_count": 6,
      "metadata": {
        "id": "NGkpU-8xxMgi"
      },
      "outputs": [],
      "source": [
        "import requests\n",
        "import bs4\n",
        "from bs4 import BeautifulSoup\n",
        "from urllib.parse import urljoin\n",
        "import os\n",
        "\n",
        "# Realizamos la solicitud HTTP GET a la página\n",
        "url = \"https://www.bancentral.gov.do/a/d/3785-compras-menores\"\n",
        "h = {\"user-agent\": \"Mozilla/5.0 (Macintosh; Intel Mac OS X 10_15_7) AppleWebKit/605.1.15 (KHTML, like Gecko) Version/16.4 Safari/605.1.15\"}\n",
        "\n",
        "response = requests.get(url, headers=h)\n",
        "\n",
        "# Creamos el objeto BeautifulSoup para analizar el contenido HTML\n",
        "soup = BeautifulSoup(response.text, \"html.parser\")\n",
        "\n",
        "# Localizamos los elementos div con la clase \"panel-group ng-scope\"\n",
        "div_elements = soup.find_all(\"div\", class_=\"panel-group ng-scope\")\n",
        "\n",
        "# Extraemos los elementos \"a\" dentro de los div encontrados\n",
        "for div in div_elements:\n",
        "    a_elements = div.find_all(\"href\")\n",
        "    for a in a_elements:\n",
        "        # Obtenemos el atributo de texto y lo imprimimos\n",
        "        print(a.get_text())"
      ]
    }
  ]
}